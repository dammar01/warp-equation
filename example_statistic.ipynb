{
 "cells": [
  {
   "cell_type": "markdown",
   "metadata": {},
   "source": [
    "### Setup"
   ]
  },
  {
   "cell_type": "code",
   "execution_count": 1,
   "metadata": {},
   "outputs": [],
   "source": [
    "%load_ext autoreload\n",
    "%autoreload 2"
   ]
  },
  {
   "cell_type": "code",
   "execution_count": 2,
   "metadata": {},
   "outputs": [],
   "source": [
    "# setup\n",
    "\n",
    "from setup.data_processor import GachaDataProcessor\n",
    "import pandas as pd\n",
    "\n",
    "\n",
    "UID = \"your_uid\"\n",
    "\n",
    "RANK_TYPE = \"5\"\n",
    "# RANK_TYPE = \"4\"\n",
    "\n",
    "\n",
    "history = GachaDataProcessor(UID, RANK_TYPE)"
   ]
  },
  {
   "cell_type": "code",
   "execution_count": null,
   "metadata": {},
   "outputs": [],
   "source": [
    "pd.DataFrame(history.pity_data)"
   ]
  },
  {
   "cell_type": "code",
   "execution_count": null,
   "metadata": {},
   "outputs": [],
   "source": [
    "pd.DataFrame(history.statistic)"
   ]
  },
  {
   "cell_type": "code",
   "execution_count": null,
   "metadata": {},
   "outputs": [],
   "source": [
    "feature_statistic = [\n",
    "    {\n",
    "        key: value\n",
    "        for key, value in item.items()\n",
    "        if key\n",
    "        not in {\n",
    "            \"pity_data\",\n",
    "            \"pity_win_data\",\n",
    "        }\n",
    "    }\n",
    "    for item in history.feature_statistic\n",
    "]\n",
    "pd.DataFrame(feature_statistic)"
   ]
  },
  {
   "cell_type": "code",
   "execution_count": null,
   "metadata": {},
   "outputs": [],
   "source": [
    "time_statistic = [\n",
    "    {\n",
    "        key: value\n",
    "        for key, value in item.items()\n",
    "        if key\n",
    "        not in {\n",
    "            \"year_data\",\n",
    "            \"month_data\",\n",
    "            \"date_data\",\n",
    "            \"weekday_data\",\n",
    "            \"hour_data\",\n",
    "            \"minute_data\",\n",
    "            \"second_data\",\n",
    "        }\n",
    "    }\n",
    "    for item in history.time_statistic\n",
    "]\n",
    "pd.DataFrame(time_statistic)"
   ]
  },
  {
   "cell_type": "code",
   "execution_count": null,
   "metadata": {},
   "outputs": [],
   "source": [
    "pd.DataFrame(history.rate)"
   ]
  },
  {
   "cell_type": "code",
   "execution_count": null,
   "metadata": {},
   "outputs": [],
   "source": [
    "pd.DataFrame(history.last_pity)"
   ]
  },
  {
   "cell_type": "code",
   "execution_count": null,
   "metadata": {},
   "outputs": [],
   "source": [
    "pd.DataFrame(history.current_pity)"
   ]
  }
 ],
 "metadata": {
  "kernelspec": {
   "display_name": "venv",
   "language": "python",
   "name": "python3"
  },
  "language_info": {
   "codemirror_mode": {
    "name": "ipython",
    "version": 3
   },
   "file_extension": ".py",
   "mimetype": "text/x-python",
   "name": "python",
   "nbconvert_exporter": "python",
   "pygments_lexer": "ipython3",
   "version": "3.12.5"
  }
 },
 "nbformat": 4,
 "nbformat_minor": 2
}
